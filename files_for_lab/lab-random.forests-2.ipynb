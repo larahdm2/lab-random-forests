{
 "cells": [
  {
   "cell_type": "code",
   "execution_count": 28,
   "id": "9a8ceafc",
   "metadata": {},
   "outputs": [],
   "source": [
    "import pandas as pd\n",
    "import numpy as np\n",
    "from sklearn.tree import DecisionTreeRegressor\n",
    "from sklearn.model_selection import cross_val_score\n",
    "from sklearn.model_selection import train_test_split\n",
    "from sklearn.tree import DecisionTreeRegressor\n",
    "from sklearn.linear_model import LinearRegression\n",
    "from sklearn.linear_model import LogisticRegression\n",
    "from sklearn.neighbors import KNeighborsRegressor\n",
    "from sklearn.preprocessing import StandardScaler\n",
    "from sklearn.preprocessing import OneHotEncoder\n",
    "from sklearn.ensemble import RandomForestClassifier\n",
    "from sklearn.metrics import confusion_matrix\n",
    "from sklearn.model_selection import GridSearchCV\n",
    "import warnings"
   ]
  },
  {
   "cell_type": "code",
   "execution_count": 2,
   "id": "d40d2a1e",
   "metadata": {},
   "outputs": [],
   "source": [
    "numerical = pd.read_csv('numerical.csv')\n",
    "categorical = pd.read_csv('categorical.csv')\n",
    "target = pd.read_csv('target.csv')"
   ]
  },
  {
   "cell_type": "code",
   "execution_count": 3,
   "id": "d0ac3251",
   "metadata": {},
   "outputs": [],
   "source": [
    "# target['TARGET_B'].value_counts()"
   ]
  },
  {
   "cell_type": "markdown",
   "id": "d24ca69e",
   "metadata": {},
   "source": [
    "# 1. Task 1\n",
    "\n",
    "Apply the Random Forests algorithm but this time only by upscaling the data to deal with the imbalance."
   ]
  },
  {
   "cell_type": "markdown",
   "id": "e8806459",
   "metadata": {},
   "source": [
    "### 1.1 Split"
   ]
  },
  {
   "cell_type": "code",
   "execution_count": 4,
   "id": "dfc2eac0",
   "metadata": {},
   "outputs": [],
   "source": [
    "X = pd.concat([numerical, categorical], axis = 1)\n",
    "y = target['TARGET_B']"
   ]
  },
  {
   "cell_type": "code",
   "execution_count": 5,
   "id": "ce107eeb",
   "metadata": {},
   "outputs": [],
   "source": [
    "X_train, X_test, y_train, y_test = train_test_split(X, y, test_size=0.2, random_state=0)"
   ]
  },
  {
   "cell_type": "code",
   "execution_count": 6,
   "id": "9df849ab",
   "metadata": {},
   "outputs": [],
   "source": [
    "X_train_cat = X_train.select_dtypes(include='object').reset_index(drop=True)"
   ]
  },
  {
   "cell_type": "code",
   "execution_count": 7,
   "id": "10a49695",
   "metadata": {},
   "outputs": [],
   "source": [
    "X_train_num = X_train.select_dtypes(include='number').reset_index(drop=True)"
   ]
  },
  {
   "cell_type": "code",
   "execution_count": 8,
   "id": "77625ea8",
   "metadata": {},
   "outputs": [],
   "source": [
    "y_train = y_train.reset_index(drop=True)"
   ]
  },
  {
   "cell_type": "code",
   "execution_count": 9,
   "id": "c721f9ef",
   "metadata": {},
   "outputs": [],
   "source": [
    "X_test_cat = X_test.select_dtypes(include='object').reset_index(drop=True)"
   ]
  },
  {
   "cell_type": "code",
   "execution_count": 10,
   "id": "7bcd2004",
   "metadata": {},
   "outputs": [],
   "source": [
    "X_test_num = X_test.select_dtypes(include='number').reset_index(drop=True)"
   ]
  },
  {
   "cell_type": "code",
   "execution_count": 11,
   "id": "fa728872",
   "metadata": {},
   "outputs": [],
   "source": [
    "y_test = y_test.reset_index(drop=True)"
   ]
  },
  {
   "cell_type": "markdown",
   "id": "3d99aadc",
   "metadata": {},
   "source": [
    "### 1.2 Encode"
   ]
  },
  {
   "cell_type": "code",
   "execution_count": 12,
   "id": "11a33a12",
   "metadata": {},
   "outputs": [],
   "source": [
    "encoder = OneHotEncoder(drop='first').fit(X_train_cat)"
   ]
  },
  {
   "cell_type": "code",
   "execution_count": 13,
   "id": "e01e5402",
   "metadata": {},
   "outputs": [],
   "source": [
    "encoded_categorical_train = encoder.transform(X_train_cat).toarray()"
   ]
  },
  {
   "cell_type": "code",
   "execution_count": 14,
   "id": "a37daa3e",
   "metadata": {},
   "outputs": [],
   "source": [
    "encoded_categorical_train = pd.DataFrame(encoded_categorical_train, columns=encoder.get_feature_names_out())"
   ]
  },
  {
   "cell_type": "code",
   "execution_count": 15,
   "id": "bccf8e7c",
   "metadata": {},
   "outputs": [],
   "source": [
    "encoded_categorical_test = encoder.transform(X_test_cat).toarray()"
   ]
  },
  {
   "cell_type": "code",
   "execution_count": 16,
   "id": "3e5bc0a6",
   "metadata": {},
   "outputs": [],
   "source": [
    "encoded_categorical_test = pd.DataFrame(encoded_categorical_test, columns=encoder.get_feature_names_out())"
   ]
  },
  {
   "cell_type": "markdown",
   "id": "29a5173e",
   "metadata": {},
   "source": [
    "### 1.3 Scaling\n",
    "\n",
    "> For the random forest we don´t have to do this. But I´m testing if this way I maximise the recall.\n",
    ">\n",
    "> It didn´t, so I won´t run this."
   ]
  },
  {
   "cell_type": "code",
   "execution_count": 17,
   "id": "e9110544",
   "metadata": {},
   "outputs": [],
   "source": [
    "# scaler = StandardScaler().fit(X_train_num)"
   ]
  },
  {
   "cell_type": "code",
   "execution_count": 18,
   "id": "d517c0b1",
   "metadata": {},
   "outputs": [],
   "source": [
    "# scaled_numerical_train = scaler.transform(X_train_num)"
   ]
  },
  {
   "cell_type": "code",
   "execution_count": 19,
   "id": "b968c436",
   "metadata": {},
   "outputs": [],
   "source": [
    "# scaled_numerical_train = pd.DataFrame(scaled_numerical_train, columns = X_train_num.columns)"
   ]
  },
  {
   "cell_type": "code",
   "execution_count": 20,
   "id": "ad1aa41b",
   "metadata": {},
   "outputs": [],
   "source": [
    "# scaled_numerical_test = scaler.transform(X_test_num)"
   ]
  },
  {
   "cell_type": "code",
   "execution_count": 21,
   "id": "af2d22c0",
   "metadata": {},
   "outputs": [],
   "source": [
    "# scaled_numerical_test = pd.DataFrame(scaled_numerical_test, columns = X_train_num.columns)"
   ]
  },
  {
   "cell_type": "markdown",
   "id": "a3a245fc",
   "metadata": {},
   "source": [
    "### 1.4 Upscaling"
   ]
  },
  {
   "cell_type": "code",
   "execution_count": 22,
   "id": "7adf4680",
   "metadata": {},
   "outputs": [],
   "source": [
    "trainset = pd.concat([encoded_categorical_train, X_train_num, y_train], axis=1)"
   ]
  },
  {
   "cell_type": "code",
   "execution_count": 23,
   "id": "4b0870b7",
   "metadata": {},
   "outputs": [
    {
     "name": "stdout",
     "output_type": "stream",
     "text": [
      "(72486, 355)\n",
      "(72486, 355)\n",
      "(144972, 354)\n"
     ]
    }
   ],
   "source": [
    "category_1 = trainset[trainset['TARGET_B'] == 1].sample(len(trainset[trainset['TARGET_B'] == 0]), replace=True)\n",
    "print(category_1.shape)\n",
    "\n",
    "category_0 = trainset[trainset['TARGET_B']== 0 ]\n",
    "print(category_0.shape)\n",
    "\n",
    "trainset_new = pd.concat([category_0, category_1], axis=0)\n",
    "\n",
    "X_train = trainset_new.drop(['TARGET_B'], axis=1)\n",
    "y_train = trainset_new['TARGET_B']\n",
    "\n",
    "print(X_train.shape)"
   ]
  },
  {
   "cell_type": "markdown",
   "id": "b0e51619",
   "metadata": {},
   "source": [
    "### 1.5 Random Forest"
   ]
  },
  {
   "cell_type": "markdown",
   "id": "57a44a0a",
   "metadata": {},
   "source": [
    "##### 1.5.1  Paramethers 1"
   ]
  },
  {
   "cell_type": "code",
   "execution_count": 24,
   "id": "e66d940e",
   "metadata": {},
   "outputs": [],
   "source": [
    "X_test = pd.concat([encoded_categorical_test, X_test_num], axis=1)"
   ]
  },
  {
   "cell_type": "code",
   "execution_count": 25,
   "id": "cc2b5b95",
   "metadata": {},
   "outputs": [
    {
     "name": "stdout",
     "output_type": "stream",
     "text": [
      "1.0\n",
      "0.9466540900277735\n"
     ]
    },
    {
     "data": {
      "text/plain": [
       "0    18083\n",
       "1     1000\n",
       "Name: TARGET_B, dtype: int64"
      ]
     },
     "metadata": {},
     "output_type": "display_data"
    },
    {
     "data": {
      "text/plain": [
       "array([[18064,    19],\n",
       "       [  999,     1]], dtype=int64)"
      ]
     },
     "metadata": {},
     "output_type": "display_data"
    }
   ],
   "source": [
    "clf = RandomForestClassifier()\n",
    "clf.fit(X_train, y_train)\n",
    "\n",
    "print(clf.score(X_train, y_train))\n",
    "print(clf.score(X_test, y_test))\n",
    "\n",
    "y_pred = clf.predict(X_test)\n",
    "\n",
    "display(y_test.value_counts())\n",
    "display(confusion_matrix(y_test, y_pred))"
   ]
  },
  {
   "cell_type": "code",
   "execution_count": 26,
   "id": "8ed970eb",
   "metadata": {},
   "outputs": [
    {
     "data": {
      "text/plain": [
       "0    19063\n",
       "1       20\n",
       "dtype: int64"
      ]
     },
     "execution_count": 26,
     "metadata": {},
     "output_type": "execute_result"
    }
   ],
   "source": [
    "pd.DataFrame(y_pred).value_counts()"
   ]
  },
  {
   "cell_type": "code",
   "execution_count": 27,
   "id": "c2bd17a1",
   "metadata": {},
   "outputs": [
    {
     "data": {
      "text/plain": [
       "TARGET_B\n",
       "0           18083\n",
       "1            1000\n",
       "dtype: int64"
      ]
     },
     "execution_count": 27,
     "metadata": {},
     "output_type": "execute_result"
    }
   ],
   "source": [
    "pd.DataFrame(y_test).value_counts()"
   ]
  },
  {
   "cell_type": "markdown",
   "id": "70c851c6",
   "metadata": {},
   "source": [
    "##### 1.5.2  Paramethers 2"
   ]
  },
  {
   "cell_type": "markdown",
   "id": "fcdb0fad",
   "metadata": {},
   "source": [
    "> I want to implement grid search to find the best params"
   ]
  },
  {
   "cell_type": "code",
   "execution_count": 35,
   "id": "7958e57f",
   "metadata": {},
   "outputs": [],
   "source": [
    "grid = {'max_depth': [3,5,10],\n",
    "        'min_samples_split': [2,10,20],\n",
    "        'min_samples_leaf': [2,10,20],\n",
    "        'max_samples': [0.8],\n",
    "        'random_state': [42]}"
   ]
  },
  {
   "cell_type": "code",
   "execution_count": 36,
   "id": "7d539e68",
   "metadata": {},
   "outputs": [],
   "source": [
    "model = RandomForestClassifier()\n",
    "grid_search = GridSearchCV(estimator = model, param_grid = grid, cv = 5)"
   ]
  },
  {
   "cell_type": "code",
   "execution_count": null,
   "id": "836663da",
   "metadata": {},
   "outputs": [],
   "source": [
    "grid_search.fit(X_train, y_train)"
   ]
  },
  {
   "cell_type": "code",
   "execution_count": null,
   "id": "059c72b1",
   "metadata": {},
   "outputs": [],
   "source": [
    "grid_search.best_params_"
   ]
  },
  {
   "cell_type": "code",
   "execution_count": null,
   "id": "bc841ce3",
   "metadata": {},
   "outputs": [],
   "source": [
    "# clf = RandomForestClassifier()\n",
    "# clf.fit(X_train, y_train)\n",
    "\n",
    "# print(clf.score(X_train, y_train))\n",
    "# print(clf.score(X_test, y_test))\n",
    "\n",
    "# y_pred = clf.predict(X_test)\n",
    "\n",
    "# display(y_test.value_counts())\n",
    "# display(confusion_matrix(y_test, y_pred))"
   ]
  },
  {
   "cell_type": "code",
   "execution_count": 26,
   "id": "4701178c",
   "metadata": {},
   "outputs": [
    {
     "data": {
      "text/plain": [
       "0    19063\n",
       "1       20\n",
       "dtype: int64"
      ]
     },
     "execution_count": 26,
     "metadata": {},
     "output_type": "execute_result"
    }
   ],
   "source": [
    "# pd.DataFrame(y_pred).value_counts()"
   ]
  },
  {
   "cell_type": "code",
   "execution_count": 27,
   "id": "2e09d7d6",
   "metadata": {},
   "outputs": [
    {
     "data": {
      "text/plain": [
       "TARGET_B\n",
       "0           18083\n",
       "1            1000\n",
       "dtype: int64"
      ]
     },
     "execution_count": 27,
     "metadata": {},
     "output_type": "execute_result"
    }
   ],
   "source": [
    "# pd.DataFrame(y_test).value_counts()"
   ]
  },
  {
   "cell_type": "markdown",
   "id": "b45b9af6",
   "metadata": {},
   "source": [
    "# 2. Task 2\n",
    "\n",
    "Use Feature Selections that you have learned in class to decide if you want to use all of the features (Variance Threshold, RFE, PCA, etc.)"
   ]
  },
  {
   "cell_type": "code",
   "execution_count": null,
   "id": "fe5d1eaa",
   "metadata": {},
   "outputs": [],
   "source": []
  }
 ],
 "metadata": {
  "kernelspec": {
   "display_name": "Python 3 (ipykernel)",
   "language": "python",
   "name": "python3"
  },
  "language_info": {
   "codemirror_mode": {
    "name": "ipython",
    "version": 3
   },
   "file_extension": ".py",
   "mimetype": "text/x-python",
   "name": "python",
   "nbconvert_exporter": "python",
   "pygments_lexer": "ipython3",
   "version": "3.10.9"
  }
 },
 "nbformat": 4,
 "nbformat_minor": 5
}
